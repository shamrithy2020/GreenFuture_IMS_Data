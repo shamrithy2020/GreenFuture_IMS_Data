{
  "nbformat": 4,
  "nbformat_minor": 0,
  "metadata": {
    "colab": {
      "provenance": [],
      "authorship_tag": "ABX9TyPWhfgS/FMHxe6zbEY/ITln",
      "include_colab_link": true
    },
    "kernelspec": {
      "name": "ir",
      "display_name": "R"
    },
    "language_info": {
      "name": "R"
    }
  },
  "cells": [
    {
      "cell_type": "markdown",
      "metadata": {
        "id": "view-in-github",
        "colab_type": "text"
      },
      "source": [
        "<a href=\"https://colab.research.google.com/github/shamrithy2020/GreenFuture_IMS_Data/blob/main/GreenFuture_IMS_Analysis_Shamrithy.ipynb\" target=\"_parent\"><img src=\"https://colab.research.google.com/assets/colab-badge.svg\" alt=\"Open In Colab\"/></a>"
      ]
    },
    {
      "cell_type": "markdown",
      "source": [
        "\"I created a public GitHub repository named GreenFuture_IMS_Data and uploaded the dataset file greenfuture_ideas_dataset.csv.\n",
        "I obtained the raw link by clicking on the file and selecting 'Raw'.\n",
        "The raw link to the dataset is: https://raw.githubusercontent.com/shamrithy2020/GreenFuture_IMS_Data/main/greenfuture_ideas_dataset.csv\n",
        "\n",
        "# **Section 1**"
      ],
      "metadata": {
        "id": "dVNviki9mjhC"
      }
    },
    {
      "cell_type": "markdown",
      "source": [
        "# **1. Import Dataset and Libraries**"
      ],
      "metadata": {
        "id": "kgmpVh2luLFo"
      }
    },
    {
      "cell_type": "code",
      "source": [
        "# Install and load necessary libraries\n",
        "install.packages(\"sqldf\")\n",
        "library(sqldf)\n",
        "library(readr)"
      ],
      "metadata": {
        "colab": {
          "base_uri": "https://localhost:8080/"
        },
        "id": "2helcSq-yr_w",
        "outputId": "b563d002-9a39-4fd7-ad22-44441145e033"
      },
      "execution_count": null,
      "outputs": [
        {
          "output_type": "stream",
          "name": "stderr",
          "text": [
            "Installing package into ‘/usr/local/lib/R/site-library’\n",
            "(as ‘lib’ is unspecified)\n",
            "\n"
          ]
        }
      ]
    },
    {
      "cell_type": "code",
      "source": [
        "# Load CSV from GitHub\n",
        "data <- read_csv(\"https://raw.githubusercontent.com/shamrithy2020/GreenFuture_IMS_Data/main/greenfuture_ideas_dataset.csv\")\n",
        "\n",
        "# View the data\n",
        "head(data)"
      ],
      "metadata": {
        "colab": {
          "base_uri": "https://localhost:8080/",
          "height": 477
        },
        "id": "5rukJxj80RoB",
        "outputId": "777abb02-2c61-4e76-d678-906c3c57b33d"
      },
      "execution_count": null,
      "outputs": [
        {
          "output_type": "stream",
          "name": "stderr",
          "text": [
            "\u001b[1mRows: \u001b[22m\u001b[34m3000\u001b[39m \u001b[1mColumns: \u001b[22m\u001b[34m11\u001b[39m\n",
            "\u001b[36m──\u001b[39m \u001b[1mColumn specification\u001b[22m \u001b[36m────────────────────────────────────────────────────────\u001b[39m\n",
            "\u001b[1mDelimiter:\u001b[22m \",\"\n",
            "\u001b[31mchr\u001b[39m (10): Employee ID, Office Location, Department, Idea Submission Date, Id...\n",
            "\u001b[32mdbl\u001b[39m  (1): Number of Votes\n",
            "\n",
            "\u001b[36mℹ\u001b[39m Use `spec()` to retrieve the full column specification for this data.\n",
            "\u001b[36mℹ\u001b[39m Specify the column types or set `show_col_types = FALSE` to quiet this message.\n"
          ]
        },
        {
          "output_type": "display_data",
          "data": {
            "text/html": [
              "<table class=\"dataframe\">\n",
              "<caption>A tibble: 6 × 11</caption>\n",
              "<thead>\n",
              "\t<tr><th scope=col>Employee ID</th><th scope=col>Office Location</th><th scope=col>Department</th><th scope=col>Idea Submission Date</th><th scope=col>Idea Title</th><th scope=col>Idea Category</th><th scope=col>Number of Votes</th><th scope=col>Collaboration Status</th><th scope=col>Approval Status</th><th scope=col>Implementation Status</th><th scope=col>Security Concern Flag</th></tr>\n",
              "\t<tr><th scope=col>&lt;chr&gt;</th><th scope=col>&lt;chr&gt;</th><th scope=col>&lt;chr&gt;</th><th scope=col>&lt;chr&gt;</th><th scope=col>&lt;chr&gt;</th><th scope=col>&lt;chr&gt;</th><th scope=col>&lt;dbl&gt;</th><th scope=col>&lt;chr&gt;</th><th scope=col>&lt;chr&gt;</th><th scope=col>&lt;chr&gt;</th><th scope=col>&lt;chr&gt;</th></tr>\n",
              "</thead>\n",
              "<tbody>\n",
              "\t<tr><td>587b45d8</td><td>Germany  </td><td>Renewable Energy    </td><td>16/04/2024</td><td>Idea 1</td><td>Sustainable Transport</td><td>231</td><td>Single Contributor </td><td>Pending </td><td>Not Started</td><td>No </td></tr>\n",
              "\t<tr><td>0d3e8b8e</td><td>Canada   </td><td>Renewable Energy    </td><td>14/01/2024</td><td>Idea 2</td><td>Water Management     </td><td>477</td><td>Cross-Regional Team</td><td>Approved</td><td>In Progress</td><td>No </td></tr>\n",
              "\t<tr><td>fa012fe7</td><td>France   </td><td>Environmental Policy</td><td>10/01/2025</td><td>Idea 3</td><td>Renewable Energy     </td><td> 48</td><td>Cross-Regional Team</td><td>Approved</td><td>Not Started</td><td>Yes</td></tr>\n",
              "\t<tr><td>cb8ed680</td><td>Japan    </td><td>Technology          </td><td>24/12/2023</td><td>Idea 4</td><td>Circular Economy     </td><td>330</td><td>Cross-Regional Team</td><td>Approved</td><td>Completed  </td><td>No </td></tr>\n",
              "\t<tr><td>333fff26</td><td>Australia</td><td>Technology          </td><td>13/02/2025</td><td>Idea 5</td><td>Circular Economy     </td><td>428</td><td>Single Contributor </td><td>Approved</td><td>Not Started</td><td>No </td></tr>\n",
              "\t<tr><td>a34ebb0f</td><td>India    </td><td>Technology          </td><td>08/09/2024</td><td>Idea 6</td><td>Circular Economy     </td><td>431</td><td>Single Contributor </td><td>Rejected</td><td>Not Started</td><td>No </td></tr>\n",
              "</tbody>\n",
              "</table>\n"
            ],
            "text/markdown": "\nA tibble: 6 × 11\n\n| Employee ID &lt;chr&gt; | Office Location &lt;chr&gt; | Department &lt;chr&gt; | Idea Submission Date &lt;chr&gt; | Idea Title &lt;chr&gt; | Idea Category &lt;chr&gt; | Number of Votes &lt;dbl&gt; | Collaboration Status &lt;chr&gt; | Approval Status &lt;chr&gt; | Implementation Status &lt;chr&gt; | Security Concern Flag &lt;chr&gt; |\n|---|---|---|---|---|---|---|---|---|---|---|\n| 587b45d8 | Germany   | Renewable Energy     | 16/04/2024 | Idea 1 | Sustainable Transport | 231 | Single Contributor  | Pending  | Not Started | No  |\n| 0d3e8b8e | Canada    | Renewable Energy     | 14/01/2024 | Idea 2 | Water Management      | 477 | Cross-Regional Team | Approved | In Progress | No  |\n| fa012fe7 | France    | Environmental Policy | 10/01/2025 | Idea 3 | Renewable Energy      |  48 | Cross-Regional Team | Approved | Not Started | Yes |\n| cb8ed680 | Japan     | Technology           | 24/12/2023 | Idea 4 | Circular Economy      | 330 | Cross-Regional Team | Approved | Completed   | No  |\n| 333fff26 | Australia | Technology           | 13/02/2025 | Idea 5 | Circular Economy      | 428 | Single Contributor  | Approved | Not Started | No  |\n| a34ebb0f | India     | Technology           | 08/09/2024 | Idea 6 | Circular Economy      | 431 | Single Contributor  | Rejected | Not Started | No  |\n\n",
            "text/latex": "A tibble: 6 × 11\n\\begin{tabular}{lllllllllll}\n Employee ID & Office Location & Department & Idea Submission Date & Idea Title & Idea Category & Number of Votes & Collaboration Status & Approval Status & Implementation Status & Security Concern Flag\\\\\n <chr> & <chr> & <chr> & <chr> & <chr> & <chr> & <dbl> & <chr> & <chr> & <chr> & <chr>\\\\\n\\hline\n\t 587b45d8 & Germany   & Renewable Energy     & 16/04/2024 & Idea 1 & Sustainable Transport & 231 & Single Contributor  & Pending  & Not Started & No \\\\\n\t 0d3e8b8e & Canada    & Renewable Energy     & 14/01/2024 & Idea 2 & Water Management      & 477 & Cross-Regional Team & Approved & In Progress & No \\\\\n\t fa012fe7 & France    & Environmental Policy & 10/01/2025 & Idea 3 & Renewable Energy      &  48 & Cross-Regional Team & Approved & Not Started & Yes\\\\\n\t cb8ed680 & Japan     & Technology           & 24/12/2023 & Idea 4 & Circular Economy      & 330 & Cross-Regional Team & Approved & Completed   & No \\\\\n\t 333fff26 & Australia & Technology           & 13/02/2025 & Idea 5 & Circular Economy      & 428 & Single Contributor  & Approved & Not Started & No \\\\\n\t a34ebb0f & India     & Technology           & 08/09/2024 & Idea 6 & Circular Economy      & 431 & Single Contributor  & Rejected & Not Started & No \\\\\n\\end{tabular}\n",
            "text/plain": [
              "  Employee ID Office Location Department           Idea Submission Date\n",
              "1 587b45d8    Germany         Renewable Energy     16/04/2024          \n",
              "2 0d3e8b8e    Canada          Renewable Energy     14/01/2024          \n",
              "3 fa012fe7    France          Environmental Policy 10/01/2025          \n",
              "4 cb8ed680    Japan           Technology           24/12/2023          \n",
              "5 333fff26    Australia       Technology           13/02/2025          \n",
              "6 a34ebb0f    India           Technology           08/09/2024          \n",
              "  Idea Title Idea Category         Number of Votes Collaboration Status\n",
              "1 Idea 1     Sustainable Transport 231             Single Contributor  \n",
              "2 Idea 2     Water Management      477             Cross-Regional Team \n",
              "3 Idea 3     Renewable Energy       48             Cross-Regional Team \n",
              "4 Idea 4     Circular Economy      330             Cross-Regional Team \n",
              "5 Idea 5     Circular Economy      428             Single Contributor  \n",
              "6 Idea 6     Circular Economy      431             Single Contributor  \n",
              "  Approval Status Implementation Status Security Concern Flag\n",
              "1 Pending         Not Started           No                   \n",
              "2 Approved        In Progress           No                   \n",
              "3 Approved        Not Started           Yes                  \n",
              "4 Approved        Completed             No                   \n",
              "5 Approved        Not Started           No                   \n",
              "6 Rejected        Not Started           No                   "
            ]
          },
          "metadata": {}
        }
      ]
    },
    {
      "cell_type": "markdown",
      "source": [
        "# **2. Basic Queries**"
      ],
      "metadata": {
        "id": "prZF5SuP3p8g"
      }
    },
    {
      "cell_type": "code",
      "source": [
        "# 1. Select all from the dataset\n",
        "sqldf(\"SELECT * FROM data LIMIT 5\")"
      ],
      "metadata": {
        "colab": {
          "base_uri": "https://localhost:8080/",
          "height": 307
        },
        "id": "d3LjRHlE3vZv",
        "outputId": "76763f83-9b9d-4045-c369-7e4495a9ef21"
      },
      "execution_count": null,
      "outputs": [
        {
          "output_type": "display_data",
          "data": {
            "text/html": [
              "<table class=\"dataframe\">\n",
              "<caption>A data.frame: 5 × 11</caption>\n",
              "<thead>\n",
              "\t<tr><th scope=col>Employee ID</th><th scope=col>Office Location</th><th scope=col>Department</th><th scope=col>Idea Submission Date</th><th scope=col>Idea Title</th><th scope=col>Idea Category</th><th scope=col>Number of Votes</th><th scope=col>Collaboration Status</th><th scope=col>Approval Status</th><th scope=col>Implementation Status</th><th scope=col>Security Concern Flag</th></tr>\n",
              "\t<tr><th scope=col>&lt;chr&gt;</th><th scope=col>&lt;chr&gt;</th><th scope=col>&lt;chr&gt;</th><th scope=col>&lt;chr&gt;</th><th scope=col>&lt;chr&gt;</th><th scope=col>&lt;chr&gt;</th><th scope=col>&lt;dbl&gt;</th><th scope=col>&lt;chr&gt;</th><th scope=col>&lt;chr&gt;</th><th scope=col>&lt;chr&gt;</th><th scope=col>&lt;chr&gt;</th></tr>\n",
              "</thead>\n",
              "<tbody>\n",
              "\t<tr><td>587b45d8</td><td>Germany  </td><td>Renewable Energy    </td><td>16/04/2024</td><td>Idea 1</td><td>Sustainable Transport</td><td>231</td><td>Single Contributor </td><td>Pending </td><td>Not Started</td><td>No </td></tr>\n",
              "\t<tr><td>0d3e8b8e</td><td>Canada   </td><td>Renewable Energy    </td><td>14/01/2024</td><td>Idea 2</td><td>Water Management     </td><td>477</td><td>Cross-Regional Team</td><td>Approved</td><td>In Progress</td><td>No </td></tr>\n",
              "\t<tr><td>fa012fe7</td><td>France   </td><td>Environmental Policy</td><td>10/01/2025</td><td>Idea 3</td><td>Renewable Energy     </td><td> 48</td><td>Cross-Regional Team</td><td>Approved</td><td>Not Started</td><td>Yes</td></tr>\n",
              "\t<tr><td>cb8ed680</td><td>Japan    </td><td>Technology          </td><td>24/12/2023</td><td>Idea 4</td><td>Circular Economy     </td><td>330</td><td>Cross-Regional Team</td><td>Approved</td><td>Completed  </td><td>No </td></tr>\n",
              "\t<tr><td>333fff26</td><td>Australia</td><td>Technology          </td><td>13/02/2025</td><td>Idea 5</td><td>Circular Economy     </td><td>428</td><td>Single Contributor </td><td>Approved</td><td>Not Started</td><td>No </td></tr>\n",
              "</tbody>\n",
              "</table>\n"
            ],
            "text/markdown": "\nA data.frame: 5 × 11\n\n| Employee ID &lt;chr&gt; | Office Location &lt;chr&gt; | Department &lt;chr&gt; | Idea Submission Date &lt;chr&gt; | Idea Title &lt;chr&gt; | Idea Category &lt;chr&gt; | Number of Votes &lt;dbl&gt; | Collaboration Status &lt;chr&gt; | Approval Status &lt;chr&gt; | Implementation Status &lt;chr&gt; | Security Concern Flag &lt;chr&gt; |\n|---|---|---|---|---|---|---|---|---|---|---|\n| 587b45d8 | Germany   | Renewable Energy     | 16/04/2024 | Idea 1 | Sustainable Transport | 231 | Single Contributor  | Pending  | Not Started | No  |\n| 0d3e8b8e | Canada    | Renewable Energy     | 14/01/2024 | Idea 2 | Water Management      | 477 | Cross-Regional Team | Approved | In Progress | No  |\n| fa012fe7 | France    | Environmental Policy | 10/01/2025 | Idea 3 | Renewable Energy      |  48 | Cross-Regional Team | Approved | Not Started | Yes |\n| cb8ed680 | Japan     | Technology           | 24/12/2023 | Idea 4 | Circular Economy      | 330 | Cross-Regional Team | Approved | Completed   | No  |\n| 333fff26 | Australia | Technology           | 13/02/2025 | Idea 5 | Circular Economy      | 428 | Single Contributor  | Approved | Not Started | No  |\n\n",
            "text/latex": "A data.frame: 5 × 11\n\\begin{tabular}{lllllllllll}\n Employee ID & Office Location & Department & Idea Submission Date & Idea Title & Idea Category & Number of Votes & Collaboration Status & Approval Status & Implementation Status & Security Concern Flag\\\\\n <chr> & <chr> & <chr> & <chr> & <chr> & <chr> & <dbl> & <chr> & <chr> & <chr> & <chr>\\\\\n\\hline\n\t 587b45d8 & Germany   & Renewable Energy     & 16/04/2024 & Idea 1 & Sustainable Transport & 231 & Single Contributor  & Pending  & Not Started & No \\\\\n\t 0d3e8b8e & Canada    & Renewable Energy     & 14/01/2024 & Idea 2 & Water Management      & 477 & Cross-Regional Team & Approved & In Progress & No \\\\\n\t fa012fe7 & France    & Environmental Policy & 10/01/2025 & Idea 3 & Renewable Energy      &  48 & Cross-Regional Team & Approved & Not Started & Yes\\\\\n\t cb8ed680 & Japan     & Technology           & 24/12/2023 & Idea 4 & Circular Economy      & 330 & Cross-Regional Team & Approved & Completed   & No \\\\\n\t 333fff26 & Australia & Technology           & 13/02/2025 & Idea 5 & Circular Economy      & 428 & Single Contributor  & Approved & Not Started & No \\\\\n\\end{tabular}\n",
            "text/plain": [
              "  Employee ID Office Location Department           Idea Submission Date\n",
              "1 587b45d8    Germany         Renewable Energy     16/04/2024          \n",
              "2 0d3e8b8e    Canada          Renewable Energy     14/01/2024          \n",
              "3 fa012fe7    France          Environmental Policy 10/01/2025          \n",
              "4 cb8ed680    Japan           Technology           24/12/2023          \n",
              "5 333fff26    Australia       Technology           13/02/2025          \n",
              "  Idea Title Idea Category         Number of Votes Collaboration Status\n",
              "1 Idea 1     Sustainable Transport 231             Single Contributor  \n",
              "2 Idea 2     Water Management      477             Cross-Regional Team \n",
              "3 Idea 3     Renewable Energy       48             Cross-Regional Team \n",
              "4 Idea 4     Circular Economy      330             Cross-Regional Team \n",
              "5 Idea 5     Circular Economy      428             Single Contributor  \n",
              "  Approval Status Implementation Status Security Concern Flag\n",
              "1 Pending         Not Started           No                   \n",
              "2 Approved        In Progress           No                   \n",
              "3 Approved        Not Started           Yes                  \n",
              "4 Approved        Completed             No                   \n",
              "5 Approved        Not Started           No                   "
            ]
          },
          "metadata": {}
        }
      ]
    },
    {
      "cell_type": "code",
      "source": [
        "# 2. Count ideas submitted by each department\n",
        "sqldf(\"SELECT Department, COUNT(*) as Idea_Count FROM data GROUP BY Department\")"
      ],
      "metadata": {
        "colab": {
          "base_uri": "https://localhost:8080/",
          "height": 286
        },
        "id": "YBkJp48p3_rw",
        "outputId": "93960853-fab4-41fc-ff68-e9c5d715240c"
      },
      "execution_count": null,
      "outputs": [
        {
          "output_type": "display_data",
          "data": {
            "text/html": [
              "<table class=\"dataframe\">\n",
              "<caption>A data.frame: 6 × 2</caption>\n",
              "<thead>\n",
              "\t<tr><th scope=col>Department</th><th scope=col>Idea_Count</th></tr>\n",
              "\t<tr><th scope=col>&lt;chr&gt;</th><th scope=col>&lt;int&gt;</th></tr>\n",
              "</thead>\n",
              "<tbody>\n",
              "\t<tr><td>Environmental Policy</td><td>499</td></tr>\n",
              "\t<tr><td>Infrastructure      </td><td>547</td></tr>\n",
              "\t<tr><td>Renewable Energy    </td><td>513</td></tr>\n",
              "\t<tr><td>Research            </td><td>498</td></tr>\n",
              "\t<tr><td>Technology          </td><td>457</td></tr>\n",
              "\t<tr><td>Urban Development   </td><td>486</td></tr>\n",
              "</tbody>\n",
              "</table>\n"
            ],
            "text/markdown": "\nA data.frame: 6 × 2\n\n| Department &lt;chr&gt; | Idea_Count &lt;int&gt; |\n|---|---|\n| Environmental Policy | 499 |\n| Infrastructure       | 547 |\n| Renewable Energy     | 513 |\n| Research             | 498 |\n| Technology           | 457 |\n| Urban Development    | 486 |\n\n",
            "text/latex": "A data.frame: 6 × 2\n\\begin{tabular}{ll}\n Department & Idea\\_Count\\\\\n <chr> & <int>\\\\\n\\hline\n\t Environmental Policy & 499\\\\\n\t Infrastructure       & 547\\\\\n\t Renewable Energy     & 513\\\\\n\t Research             & 498\\\\\n\t Technology           & 457\\\\\n\t Urban Development    & 486\\\\\n\\end{tabular}\n",
            "text/plain": [
              "  Department           Idea_Count\n",
              "1 Environmental Policy 499       \n",
              "2 Infrastructure       547       \n",
              "3 Renewable Energy     513       \n",
              "4 Research             498       \n",
              "5 Technology           457       \n",
              "6 Urban Development    486       "
            ]
          },
          "metadata": {}
        }
      ]
    },
    {
      "cell_type": "code",
      "source": [
        "# 3. Average votes by office location\n",
        "sqldf(\"SELECT [Office Location], AVG([Number of Votes]) as Avg_Votes FROM data GROUP BY [Office Location]\")\n"
      ],
      "metadata": {
        "colab": {
          "base_uri": "https://localhost:8080/",
          "height": 474
        },
        "id": "PbfxxoGb4JMp",
        "outputId": "8dc8cbd6-08ef-4302-9936-97455b7e0d1a"
      },
      "execution_count": null,
      "outputs": [
        {
          "output_type": "display_data",
          "data": {
            "text/html": [
              "<table class=\"dataframe\">\n",
              "<caption>A data.frame: 12 × 2</caption>\n",
              "<thead>\n",
              "\t<tr><th scope=col>Office Location</th><th scope=col>Avg_Votes</th></tr>\n",
              "\t<tr><th scope=col>&lt;chr&gt;</th><th scope=col>&lt;dbl&gt;</th></tr>\n",
              "</thead>\n",
              "<tbody>\n",
              "\t<tr><td>Australia   </td><td>254.5205</td></tr>\n",
              "\t<tr><td>Brazil      </td><td>254.9207</td></tr>\n",
              "\t<tr><td>Canada      </td><td>247.0119</td></tr>\n",
              "\t<tr><td>China       </td><td>248.9714</td></tr>\n",
              "\t<tr><td>France      </td><td>228.8759</td></tr>\n",
              "\t<tr><td>Germany     </td><td>246.4246</td></tr>\n",
              "\t<tr><td>India       </td><td>246.5991</td></tr>\n",
              "\t<tr><td>Japan       </td><td>263.2432</td></tr>\n",
              "\t<tr><td>Mexico      </td><td>264.7542</td></tr>\n",
              "\t<tr><td>South Africa</td><td>241.6231</td></tr>\n",
              "\t<tr><td>UK          </td><td>235.0661</td></tr>\n",
              "\t<tr><td>USA         </td><td>250.7801</td></tr>\n",
              "</tbody>\n",
              "</table>\n"
            ],
            "text/markdown": "\nA data.frame: 12 × 2\n\n| Office Location &lt;chr&gt; | Avg_Votes &lt;dbl&gt; |\n|---|---|\n| Australia    | 254.5205 |\n| Brazil       | 254.9207 |\n| Canada       | 247.0119 |\n| China        | 248.9714 |\n| France       | 228.8759 |\n| Germany      | 246.4246 |\n| India        | 246.5991 |\n| Japan        | 263.2432 |\n| Mexico       | 264.7542 |\n| South Africa | 241.6231 |\n| UK           | 235.0661 |\n| USA          | 250.7801 |\n\n",
            "text/latex": "A data.frame: 12 × 2\n\\begin{tabular}{ll}\n Office Location & Avg\\_Votes\\\\\n <chr> & <dbl>\\\\\n\\hline\n\t Australia    & 254.5205\\\\\n\t Brazil       & 254.9207\\\\\n\t Canada       & 247.0119\\\\\n\t China        & 248.9714\\\\\n\t France       & 228.8759\\\\\n\t Germany      & 246.4246\\\\\n\t India        & 246.5991\\\\\n\t Japan        & 263.2432\\\\\n\t Mexico       & 264.7542\\\\\n\t South Africa & 241.6231\\\\\n\t UK           & 235.0661\\\\\n\t USA          & 250.7801\\\\\n\\end{tabular}\n",
            "text/plain": [
              "   Office Location Avg_Votes\n",
              "1  Australia       254.5205 \n",
              "2  Brazil          254.9207 \n",
              "3  Canada          247.0119 \n",
              "4  China           248.9714 \n",
              "5  France          228.8759 \n",
              "6  Germany         246.4246 \n",
              "7  India           246.5991 \n",
              "8  Japan           263.2432 \n",
              "9  Mexico          264.7542 \n",
              "10 South Africa    241.6231 \n",
              "11 UK              235.0661 \n",
              "12 USA             250.7801 "
            ]
          },
          "metadata": {}
        }
      ]
    },
    {
      "cell_type": "code",
      "source": [
        "# 4. Total approved ideas by region\n",
        "sqldf(\"SELECT [Office Location], COUNT(*) as Approved_Ideas FROM data WHERE [Approval Status] = 'Approved' GROUP BY [Office Location]\")"
      ],
      "metadata": {
        "colab": {
          "base_uri": "https://localhost:8080/",
          "height": 474
        },
        "id": "0E4wnaY_4TcP",
        "outputId": "e2181ab0-1ea1-40c1-ca95-304ac08cfff1"
      },
      "execution_count": null,
      "outputs": [
        {
          "output_type": "display_data",
          "data": {
            "text/html": [
              "<table class=\"dataframe\">\n",
              "<caption>A data.frame: 12 × 2</caption>\n",
              "<thead>\n",
              "\t<tr><th scope=col>Office Location</th><th scope=col>Approved_Ideas</th></tr>\n",
              "\t<tr><th scope=col>&lt;chr&gt;</th><th scope=col>&lt;int&gt;</th></tr>\n",
              "</thead>\n",
              "<tbody>\n",
              "\t<tr><td>Australia   </td><td> 79</td></tr>\n",
              "\t<tr><td>Brazil      </td><td> 86</td></tr>\n",
              "\t<tr><td>Canada      </td><td> 87</td></tr>\n",
              "\t<tr><td>China       </td><td> 95</td></tr>\n",
              "\t<tr><td>France      </td><td> 78</td></tr>\n",
              "\t<tr><td>Germany     </td><td> 91</td></tr>\n",
              "\t<tr><td>India       </td><td> 69</td></tr>\n",
              "\t<tr><td>Japan       </td><td> 84</td></tr>\n",
              "\t<tr><td>Mexico      </td><td> 81</td></tr>\n",
              "\t<tr><td>South Africa</td><td>107</td></tr>\n",
              "\t<tr><td>UK          </td><td> 90</td></tr>\n",
              "\t<tr><td>USA         </td><td> 90</td></tr>\n",
              "</tbody>\n",
              "</table>\n"
            ],
            "text/markdown": "\nA data.frame: 12 × 2\n\n| Office Location &lt;chr&gt; | Approved_Ideas &lt;int&gt; |\n|---|---|\n| Australia    |  79 |\n| Brazil       |  86 |\n| Canada       |  87 |\n| China        |  95 |\n| France       |  78 |\n| Germany      |  91 |\n| India        |  69 |\n| Japan        |  84 |\n| Mexico       |  81 |\n| South Africa | 107 |\n| UK           |  90 |\n| USA          |  90 |\n\n",
            "text/latex": "A data.frame: 12 × 2\n\\begin{tabular}{ll}\n Office Location & Approved\\_Ideas\\\\\n <chr> & <int>\\\\\n\\hline\n\t Australia    &  79\\\\\n\t Brazil       &  86\\\\\n\t Canada       &  87\\\\\n\t China        &  95\\\\\n\t France       &  78\\\\\n\t Germany      &  91\\\\\n\t India        &  69\\\\\n\t Japan        &  84\\\\\n\t Mexico       &  81\\\\\n\t South Africa & 107\\\\\n\t UK           &  90\\\\\n\t USA          &  90\\\\\n\\end{tabular}\n",
            "text/plain": [
              "   Office Location Approved_Ideas\n",
              "1  Australia        79           \n",
              "2  Brazil           86           \n",
              "3  Canada           87           \n",
              "4  China            95           \n",
              "5  France           78           \n",
              "6  Germany          91           \n",
              "7  India            69           \n",
              "8  Japan            84           \n",
              "9  Mexico           81           \n",
              "10 South Africa    107           \n",
              "11 UK               90           \n",
              "12 USA              90           "
            ]
          },
          "metadata": {}
        }
      ]
    },
    {
      "cell_type": "markdown",
      "source": [
        "# **3. Demonstrate Insert, Update, Delete, Select in SQL**"
      ],
      "metadata": {
        "id": "zgWL_Yl35CFO"
      }
    },
    {
      "cell_type": "code",
      "source": [
        "#creating a sample dataframe\n",
        "library(sqldf)\n",
        "library(sqldf)\n",
        "\n",
        "# Sample 'ideas' data frame\n",
        "ideas <- data.frame(\n",
        "  EmployeeID = c(101, 102, 103),\n",
        "  OfficeLocation = c(\"Colombo\", \"Kandy\", \"Galle\"),\n",
        "  Department = c(\"HR\", \"Marketing\", \"Legal\"),\n",
        "  IdeaSubmissionDate = c(\"2024-01-01\", \"2024-02-15\", \"2024-03-10\"),\n",
        "  IdeaTitle = c(\"Training Program\", \"Product Launch\", \"Legal Compliance\"),\n",
        "  IdeaCategory = c(\"HR Tech\", \"Marketing\", \"Legal Tech\"),\n",
        "  NumberOfVotes = c(12, 19, 7),\n",
        "  CollaborationStatus = c(\"Active\", \"Completed\", \"Active\"),\n",
        "  ApprovalStatus = c(\"Approved\", \"Pending\", \"Pending\"),\n",
        "  ImplementationStatus = c(\"In Progress\", \"Completed\", \"Not Started\"),\n",
        "  SecurityConcernFlag = c(0, 1, 0)\n",
        ")\n",
        "\n",
        "cat(\"Initial Data:\\n\")\n",
        "print(ideas)\n"
      ],
      "metadata": {
        "colab": {
          "base_uri": "https://localhost:8080/"
        },
        "id": "Vnze9W69Ayz6",
        "outputId": "9a882d13-3a18-499a-f7cd-f65d5d84a8f7"
      },
      "execution_count": null,
      "outputs": [
        {
          "output_type": "stream",
          "name": "stdout",
          "text": [
            "Initial Data:\n",
            "  EmployeeID OfficeLocation Department IdeaSubmissionDate        IdeaTitle\n",
            "1        101        Colombo         HR         2024-01-01 Training Program\n",
            "2        102          Kandy  Marketing         2024-02-15   Product Launch\n",
            "3        103          Galle      Legal         2024-03-10 Legal Compliance\n",
            "  IdeaCategory NumberOfVotes CollaborationStatus ApprovalStatus\n",
            "1      HR Tech            12              Active       Approved\n",
            "2    Marketing            19           Completed        Pending\n",
            "3   Legal Tech             7              Active        Pending\n",
            "  ImplementationStatus SecurityConcernFlag\n",
            "1          In Progress                   0\n",
            "2            Completed                   1\n",
            "3          Not Started                   0\n"
          ]
        }
      ]
    },
    {
      "cell_type": "code",
      "source": [
        "# SELECT - Select ideas with 'Pending' approval status\n",
        "selected_ideas <- sqldf(\"SELECT * FROM ideas WHERE ApprovalStatus = 'Pending'\")\n",
        "cat(\"\\nSelected Ideas with 'Pending' Approval Status:\\n\")\n",
        "print(selected_ideas)"
      ],
      "metadata": {
        "colab": {
          "base_uri": "https://localhost:8080/"
        },
        "id": "F5E4by6UV8IF",
        "outputId": "a75c7a11-4300-414d-b659-6c9d57cde54e"
      },
      "execution_count": null,
      "outputs": [
        {
          "output_type": "stream",
          "name": "stdout",
          "text": [
            "\n",
            "Selected Ideas with 'Pending' Approval Status:\n",
            "  EmployeeID OfficeLocation Department IdeaSubmissionDate        IdeaTitle\n",
            "1        102          Kandy  Marketing         2024-02-15   Product Launch\n",
            "2        103          Galle      Legal         2024-03-10 Legal Compliance\n",
            "  IdeaCategory NumberOfVotes CollaborationStatus ApprovalStatus\n",
            "1    Marketing            19           Completed        Pending\n",
            "2   Legal Tech             7              Active        Pending\n",
            "  ImplementationStatus SecurityConcernFlag\n",
            "1            Completed                   1\n",
            "2          Not Started                   0\n"
          ]
        }
      ]
    },
    {
      "cell_type": "code",
      "source": [
        "# INSERT - New row to be added\n",
        "new_row <- data.frame(\n",
        "  EmployeeID = 104,\n",
        "  OfficeLocation = \"Jaffna\",\n",
        "  Department = \"Legal\",\n",
        "  IdeaSubmissionDate = \"2024-04-01\",\n",
        "  IdeaTitle = \"Document Tracker\",\n",
        "  IdeaCategory = \"Legal Tech\",\n",
        "  NumberOfVotes = 22,\n",
        "  CollaborationStatus = \"Active\",\n",
        "  ApprovalStatus = \"Pending\",\n",
        "  ImplementationStatus = \"Not Started\",\n",
        "  SecurityConcernFlag = 0\n",
        ")\n",
        "\n",
        "\n",
        "ideas <- sqldf(\"SELECT * FROM ideas UNION ALL SELECT * FROM new_row\")\n",
        "\n",
        "cat(\"\\nAfter INSERT:\\n\")\n",
        "print(ideas)"
      ],
      "metadata": {
        "colab": {
          "base_uri": "https://localhost:8080/"
        },
        "id": "N6TtRoKGVPs_",
        "outputId": "9eb2735c-3b9b-4c82-f562-8f9f61a894b5"
      },
      "execution_count": null,
      "outputs": [
        {
          "output_type": "stream",
          "name": "stdout",
          "text": [
            "\n",
            "After INSERT:\n",
            "  EmployeeID OfficeLocation Department IdeaSubmissionDate        IdeaTitle\n",
            "1        101        Colombo         HR         2024-01-01 Training Program\n",
            "2        102          Kandy  Marketing         2024-02-15   Product Launch\n",
            "3        103          Galle      Legal         2024-03-10 Legal Compliance\n",
            "4        104         Jaffna      Legal         2024-04-01 Document Tracker\n",
            "  IdeaCategory NumberOfVotes CollaborationStatus ApprovalStatus\n",
            "1      HR Tech            12              Active       Approved\n",
            "2    Marketing            19           Completed        Pending\n",
            "3   Legal Tech             7              Active        Pending\n",
            "4   Legal Tech            22              Active        Pending\n",
            "  ImplementationStatus SecurityConcernFlag\n",
            "1          In Progress                   0\n",
            "2            Completed                   1\n",
            "3          Not Started                   0\n",
            "4          Not Started                   0\n"
          ]
        }
      ]
    },
    {
      "cell_type": "code",
      "source": [
        "# UPDATE - Update 'ApprovalStatus' for a specific 'IdeaTitle'\n",
        "update_approval_status <- function(idea_title, new_status) {\n",
        "  ideas <- sqldf(paste(\"SELECT * FROM ideas WHERE IdeaTitle != '\", idea_title, \"'\", sep = \"\"))\n",
        "  new_row <- data.frame(\n",
        "    EmployeeID = 104,\n",
        "    OfficeLocation = \"Jaffna\",\n",
        "    Department = \"Legal\",\n",
        "    IdeaSubmissionDate = \"2024-04-01\",\n",
        "    IdeaTitle = idea_title,\n",
        "    IdeaCategory = \"Legal Tech\",\n",
        "    NumberOfVotes = 22,\n",
        "    CollaborationStatus = \"Active\",\n",
        "    ApprovalStatus = new_status,\n",
        "    ImplementationStatus = \"Not Started\",\n",
        "    SecurityConcernFlag = 0\n",
        "  )\n",
        "\n",
        "\n",
        "  ideas <- rbind(ideas, new_row)\n",
        "\n",
        "  cat(\"\\nAfter UPDATE (ApprovalStatus for '\", idea_title, \"' set to '\", new_status, \"'):\\n\", sep = \"\")\n",
        "  print(ideas)\n",
        "}\n",
        "\n",
        "\n",
        "update_approval_status(\"Document Tracker\", \"Approved\")\n",
        "\n",
        "\n",
        "\n"
      ],
      "metadata": {
        "colab": {
          "base_uri": "https://localhost:8080/"
        },
        "id": "nZaIX5QtUFfB",
        "outputId": "6e11043c-578a-4e95-c60a-e49595b1140f"
      },
      "execution_count": null,
      "outputs": [
        {
          "output_type": "stream",
          "name": "stdout",
          "text": [
            "\n",
            "After UPDATE (ApprovalStatus for 'Document Tracker' set to 'Approved'):\n",
            "  EmployeeID OfficeLocation Department IdeaSubmissionDate        IdeaTitle\n",
            "1        101        Colombo         HR         2024-01-01 Training Program\n",
            "2        102          Kandy  Marketing         2024-02-15   Product Launch\n",
            "3        103          Galle      Legal         2024-03-10 Legal Compliance\n",
            "4        104         Jaffna      Legal         2024-04-01 Document Tracker\n",
            "  IdeaCategory NumberOfVotes CollaborationStatus ApprovalStatus\n",
            "1      HR Tech            12              Active       Approved\n",
            "2    Marketing            19           Completed        Pending\n",
            "3   Legal Tech             7              Active        Pending\n",
            "4   Legal Tech            22              Active       Approved\n",
            "  ImplementationStatus SecurityConcernFlag\n",
            "1          In Progress                   0\n",
            "2            Completed                   1\n",
            "3          Not Started                   0\n",
            "4          Not Started                   0\n"
          ]
        }
      ]
    },
    {
      "cell_type": "code",
      "source": [
        "# DELETE - Remove row based on a condition (IdeaTitle)\n",
        "delete_idea <- function(idea_title) {\n",
        "  ideas <- sqldf(paste(\"SELECT * FROM ideas WHERE IdeaTitle != '\", idea_title, \"'\", sep = \"\"))\n",
        "\n",
        "  cat(\"\\nAfter DELETE (Idea with title '\", idea_title, \"' removed):\\n\", sep = \"\")\n",
        "  print(ideas)\n",
        "}\n",
        "\n",
        "\n",
        "delete_idea(\"Document Tracker\")\n",
        "\n"
      ],
      "metadata": {
        "colab": {
          "base_uri": "https://localhost:8080/"
        },
        "id": "1ps2-ExVBMMs",
        "outputId": "94d9dd7f-e58d-4342-ac78-ddb68c3bee3c"
      },
      "execution_count": null,
      "outputs": [
        {
          "output_type": "stream",
          "name": "stdout",
          "text": [
            "\n",
            "After DELETE (Idea with title 'Document Tracker' removed):\n",
            "  EmployeeID OfficeLocation Department IdeaSubmissionDate        IdeaTitle\n",
            "1        101        Colombo         HR         2024-01-01 Training Program\n",
            "2        102          Kandy  Marketing         2024-02-15   Product Launch\n",
            "3        103          Galle      Legal         2024-03-10 Legal Compliance\n",
            "  IdeaCategory NumberOfVotes CollaborationStatus ApprovalStatus\n",
            "1      HR Tech            12              Active       Approved\n",
            "2    Marketing            19           Completed        Pending\n",
            "3   Legal Tech             7              Active        Pending\n",
            "  ImplementationStatus SecurityConcernFlag\n",
            "1          In Progress                   0\n",
            "2            Completed                   1\n",
            "3          Not Started                   0\n"
          ]
        }
      ]
    },
    {
      "cell_type": "markdown",
      "source": [
        "# **4. Aggregate / Arithmetic example**"
      ],
      "metadata": {
        "id": "Mv3FAxV2Fp2B"
      }
    },
    {
      "cell_type": "code",
      "source": [
        "# Load dataset\n",
        "library(readr)\n",
        "library(dplyr)\n",
        "library(sqldf)\n",
        "\n",
        "ideas <- read_csv(\"https://raw.githubusercontent.com/shamrithy2020/GreenFuture_IMS_Data/main/greenfuture_ideas_dataset.csv\")\n",
        "\n",
        "# Clean column names\n",
        "colnames(ideas) <- make.names(colnames(ideas))\n"
      ],
      "metadata": {
        "colab": {
          "base_uri": "https://localhost:8080/"
        },
        "id": "G4AYHFDv1Bp3",
        "outputId": "e9f6587e-0c4f-4154-a9bc-24478d8f7358"
      },
      "execution_count": null,
      "outputs": [
        {
          "output_type": "stream",
          "name": "stderr",
          "text": [
            "\n",
            "Attaching package: ‘dplyr’\n",
            "\n",
            "\n",
            "The following objects are masked from ‘package:stats’:\n",
            "\n",
            "    filter, lag\n",
            "\n",
            "\n",
            "The following objects are masked from ‘package:base’:\n",
            "\n",
            "    intersect, setdiff, setequal, union\n",
            "\n",
            "\n",
            "\u001b[1mRows: \u001b[22m\u001b[34m3000\u001b[39m \u001b[1mColumns: \u001b[22m\u001b[34m11\u001b[39m\n",
            "\u001b[36m──\u001b[39m \u001b[1mColumn specification\u001b[22m \u001b[36m────────────────────────────────────────────────────────\u001b[39m\n",
            "\u001b[1mDelimiter:\u001b[22m \",\"\n",
            "\u001b[31mchr\u001b[39m (10): Employee ID, Office Location, Department, Idea Submission Date, Id...\n",
            "\u001b[32mdbl\u001b[39m  (1): Number of Votes\n",
            "\n",
            "\u001b[36mℹ\u001b[39m Use `spec()` to retrieve the full column specification for this data.\n",
            "\u001b[36mℹ\u001b[39m Specify the column types or set `show_col_types = FALSE` to quiet this message.\n"
          ]
        }
      ]
    },
    {
      "cell_type": "code",
      "source": [
        "#Average Votes per Department\n",
        "result1 <- sqldf(\"SELECT Department, AVG(Number Of Votes) AS AvgVotes FROM ideas GROUP BY Department\")\n",
        "print(result1)\n"
      ],
      "metadata": {
        "colab": {
          "base_uri": "https://localhost:8080/",
          "height": 419
        },
        "id": "pdr9QL07EkeL",
        "outputId": "f1fa00f2-b3d4-489c-f8e6-539f270f907c"
      },
      "execution_count": null,
      "outputs": [
        {
          "output_type": "error",
          "ename": "ERROR",
          "evalue": "Error: near \"Of\": syntax error\n",
          "traceback": [
            "Error: near \"Of\": syntax error\nTraceback:\n",
            "1. dbGetQuery(connection, xi)",
            "2. dbGetQuery(connection, xi)",
            "3. .local(conn, statement, ...)",
            "4. dbSendQuery(conn, statement, ...)",
            "5. dbSendQuery(conn, statement, ...)",
            "6. .local(conn, statement, ...)",
            "7. new(\"SQLiteResult\", sql = statement, ptr = result_create(conn@ptr, \n .     statement), conn = conn, bigint = conn@bigint)",
            "8. initialize(value, ...)",
            "9. initialize(value, ...)",
            "10. result_create(conn@ptr, statement)",
            "11. .handleSimpleError(function (cnd) \n  . {\n  .     watcher$capture_plot_and_output()\n  .     cnd <- sanitize_call(cnd)\n  .     watcher$push(cnd)\n  .     switch(on_error, continue = invokeRestart(\"eval_continue\"), \n  .         stop = invokeRestart(\"eval_stop\"), error = NULL)\n  . }, \"near \\\"Of\\\": syntax error\", base::quote(NULL))"
          ]
        }
      ]
    },
    {
      "cell_type": "code",
      "source": [
        "#Total Votes per Office Location\n",
        "result2 <- sqldf(\"SELECT OfficeLocation, SUM(NumberOfVotes) AS TotalVotes FROM ideas GROUP BY OfficeLocation\")\n",
        "print(result2)\n"
      ],
      "metadata": {
        "colab": {
          "base_uri": "https://localhost:8080/"
        },
        "id": "x6igo5TDF38B",
        "outputId": "e356462e-0daf-4bb7-8c4e-69a5ef3b2257"
      },
      "execution_count": null,
      "outputs": [
        {
          "output_type": "stream",
          "name": "stdout",
          "text": [
            "  OfficeLocation TotalVotes\n",
            "1        Colombo         12\n",
            "2          Galle          7\n",
            "3         Jaffna         22\n",
            "4          Kandy         19\n"
          ]
        }
      ]
    },
    {
      "cell_type": "code",
      "source": [
        "#Maximum and Minimum Votes\n",
        "result3 <- sqldf(\"SELECT MAX(NumberOfVotes) AS MaxVotes, MIN(NumberOfVotes) AS MinVotes FROM ideas\")\n",
        "print(result3)\n"
      ],
      "metadata": {
        "colab": {
          "base_uri": "https://localhost:8080/"
        },
        "id": "2qHg2qaoF7UJ",
        "outputId": "04223b3c-3884-4836-9719-5a1b7c940114"
      },
      "execution_count": null,
      "outputs": [
        {
          "output_type": "stream",
          "name": "stdout",
          "text": [
            "  MaxVotes MinVotes\n",
            "1       22        7\n"
          ]
        }
      ]
    },
    {
      "cell_type": "code",
      "source": [
        "#Count of Ideas per Category\n",
        "result4 <- sqldf(\"SELECT IdeaCategory, COUNT(*) AS IdeaCount FROM ideas GROUP BY IdeaCategory\")\n",
        "print(result4)\n"
      ],
      "metadata": {
        "colab": {
          "base_uri": "https://localhost:8080/"
        },
        "id": "DTt9GH9XGA_2",
        "outputId": "a99c144a-dd0a-4027-8dc7-f2fc11ef3b88"
      },
      "execution_count": null,
      "outputs": [
        {
          "output_type": "stream",
          "name": "stdout",
          "text": [
            "  IdeaCategory IdeaCount\n",
            "1      HR Tech         1\n",
            "2   Legal Tech         2\n",
            "3    Marketing         1\n"
          ]
        }
      ]
    },
    {
      "cell_type": "code",
      "source": [
        "#Add Bonus Votes (+10)\n",
        "result5 <- sqldf(\"SELECT IdeaTitle, NumberOfVotes, NumberOfVotes + 10 AS BonusVotes FROM ideas\")\n",
        "print(result5)\n"
      ],
      "metadata": {
        "colab": {
          "base_uri": "https://localhost:8080/"
        },
        "id": "zOnkTFWQGGLh",
        "outputId": "7d304330-d8fb-4492-e87b-48fbc142920d"
      },
      "execution_count": null,
      "outputs": [
        {
          "output_type": "stream",
          "name": "stdout",
          "text": [
            "         IdeaTitle NumberOfVotes BonusVotes\n",
            "1 Training Program            12         22\n",
            "2   Product Launch            19         29\n",
            "3 Legal Compliance             7         17\n",
            "4 Document Tracker            22         32\n"
          ]
        }
      ]
    },
    {
      "cell_type": "code",
      "source": [
        "#Percentage of Votes (out of 100)\n",
        "result6 <- sqldf(\"SELECT IdeaTitle, NumberOfVotes, ROUND((NumberOfVotes / 100.0) * 100, 2) AS VotePercentage FROM ideas\")\n",
        "print(result6)\n"
      ],
      "metadata": {
        "colab": {
          "base_uri": "https://localhost:8080/"
        },
        "id": "FqfAkwpcGK9F",
        "outputId": "fc2cac0e-1da4-4abe-fe32-5c4fa3a48b52"
      },
      "execution_count": null,
      "outputs": [
        {
          "output_type": "stream",
          "name": "stdout",
          "text": [
            "         IdeaTitle NumberOfVotes VotePercentage\n",
            "1 Training Program            12             12\n",
            "2   Product Launch            19             19\n",
            "3 Legal Compliance             7              7\n",
            "4 Document Tracker            22             22\n"
          ]
        }
      ]
    },
    {
      "cell_type": "code",
      "source": [
        "#Security Concern Count\n",
        "result7 <- sqldf(\"SELECT SecurityConcernFlag, COUNT(*) AS Count FROM ideas GROUP BY SecurityConcernFlag\")\n",
        "print(result7)\n"
      ],
      "metadata": {
        "colab": {
          "base_uri": "https://localhost:8080/"
        },
        "id": "lXjh-rT9GPqc",
        "outputId": "ee86db48-aef4-4cb3-d6c1-960902af10f1"
      },
      "execution_count": null,
      "outputs": [
        {
          "output_type": "stream",
          "name": "stdout",
          "text": [
            "  SecurityConcernFlag Count\n",
            "1                   0     3\n",
            "2                   1     1\n"
          ]
        }
      ]
    },
    {
      "cell_type": "markdown",
      "source": [
        "# **5. SQL Queries for Analysis**"
      ],
      "metadata": {
        "id": "AXGujkjyJyep"
      }
    },
    {
      "cell_type": "code",
      "source": [
        "library(DBI)\n",
        "library(RSQLite)\n",
        "library(readr)\n"
      ],
      "metadata": {
        "id": "_5_NSygZPVfp"
      },
      "execution_count": null,
      "outputs": []
    },
    {
      "cell_type": "code",
      "source": [
        "library(readr)\n",
        "data <- read_csv(\"https://raw.githubusercontent.com/shamrithy2020/GreenFuture_IMS_Data/main/greenfuture_ideas_dataset.csv\")\n",
        "\n"
      ],
      "metadata": {
        "colab": {
          "base_uri": "https://localhost:8080/"
        },
        "id": "QtwUT0FdNyXd",
        "outputId": "f9b0e4f6-99e8-466b-c9f6-e3e13edebed7"
      },
      "execution_count": null,
      "outputs": [
        {
          "output_type": "stream",
          "name": "stderr",
          "text": [
            "\u001b[1mRows: \u001b[22m\u001b[34m3000\u001b[39m \u001b[1mColumns: \u001b[22m\u001b[34m11\u001b[39m\n",
            "\u001b[36m──\u001b[39m \u001b[1mColumn specification\u001b[22m \u001b[36m────────────────────────────────────────────────────────\u001b[39m\n",
            "\u001b[1mDelimiter:\u001b[22m \",\"\n",
            "\u001b[31mchr\u001b[39m (10): Employee ID, Office Location, Department, Idea Submission Date, Id...\n",
            "\u001b[32mdbl\u001b[39m  (1): Number of Votes\n",
            "\n",
            "\u001b[36mℹ\u001b[39m Use `spec()` to retrieve the full column specification for this data.\n",
            "\u001b[36mℹ\u001b[39m Specify the column types or set `show_col_types = FALSE` to quiet this message.\n"
          ]
        }
      ]
    },
    {
      "cell_type": "code",
      "source": [
        "colnames(data)\n"
      ],
      "metadata": {
        "colab": {
          "base_uri": "https://localhost:8080/",
          "height": 34
        },
        "id": "bBqye9EPPcI5",
        "outputId": "a379a62f-f48f-4656-ce0b-fe703ea4212c"
      },
      "execution_count": null,
      "outputs": [
        {
          "output_type": "display_data",
          "data": {
            "text/html": [
              "<style>\n",
              ".list-inline {list-style: none; margin:0; padding: 0}\n",
              ".list-inline>li {display: inline-block}\n",
              ".list-inline>li:not(:last-child)::after {content: \"\\00b7\"; padding: 0 .5ex}\n",
              "</style>\n",
              "<ol class=list-inline><li>'Employee ID'</li><li>'Office Location'</li><li>'Department'</li><li>'Idea Submission Date'</li><li>'Idea Title'</li><li>'Idea Category'</li><li>'Number of Votes'</li><li>'Collaboration Status'</li><li>'Approval Status'</li><li>'Implementation Status'</li><li>'Security Concern Flag'</li></ol>\n"
            ],
            "text/markdown": "1. 'Employee ID'\n2. 'Office Location'\n3. 'Department'\n4. 'Idea Submission Date'\n5. 'Idea Title'\n6. 'Idea Category'\n7. 'Number of Votes'\n8. 'Collaboration Status'\n9. 'Approval Status'\n10. 'Implementation Status'\n11. 'Security Concern Flag'\n\n\n",
            "text/latex": "\\begin{enumerate*}\n\\item 'Employee ID'\n\\item 'Office Location'\n\\item 'Department'\n\\item 'Idea Submission Date'\n\\item 'Idea Title'\n\\item 'Idea Category'\n\\item 'Number of Votes'\n\\item 'Collaboration Status'\n\\item 'Approval Status'\n\\item 'Implementation Status'\n\\item 'Security Concern Flag'\n\\end{enumerate*}\n",
            "text/plain": [
              " [1] \"Employee ID\"           \"Office Location\"       \"Department\"           \n",
              " [4] \"Idea Submission Date\"  \"Idea Title\"            \"Idea Category\"        \n",
              " [7] \"Number of Votes\"       \"Collaboration Status\"  \"Approval Status\"      \n",
              "[10] \"Implementation Status\" \"Security Concern Flag\""
            ]
          },
          "metadata": {}
        }
      ]
    },
    {
      "cell_type": "code",
      "source": [
        "library(DBI)\n",
        "library(RSQLite)\n",
        "\n",
        "# Connect to SQLite in memory\n",
        "conn <- dbConnect(SQLite(), \":memory:\")\n",
        "\n",
        "# Write table\n",
        "dbWriteTable(conn, \"ideas\", data)"
      ],
      "metadata": {
        "id": "OLWegDaeOrsN"
      },
      "execution_count": null,
      "outputs": []
    },
    {
      "cell_type": "code",
      "source": [
        "#Average Votes per Department\n",
        "avg_votes_query <- '\n",
        "SELECT \"Department\", AVG(\"Number of Votes\") AS AvgVotes\n",
        "FROM ideas\n",
        "GROUP BY \"Department\"\n",
        "'\n",
        "avg_votes <- dbGetQuery(conn, avg_votes_query)\n",
        "print(avg_votes)\n",
        "\n"
      ],
      "metadata": {
        "colab": {
          "base_uri": "https://localhost:8080/"
        },
        "id": "KGF1mRroOwIi",
        "outputId": "efa81bcf-2784-46a1-c123-5c0c5d0a3666"
      },
      "execution_count": null,
      "outputs": [
        {
          "output_type": "stream",
          "name": "stdout",
          "text": [
            "            Department AvgVotes\n",
            "1 Environmental Policy 252.9259\n",
            "2       Infrastructure 243.6892\n",
            "3     Renewable Energy 246.6316\n",
            "4             Research 248.5803\n",
            "5           Technology 248.0460\n",
            "6    Urban Development 250.7551\n"
          ]
        }
      ]
    },
    {
      "cell_type": "code",
      "source": [
        "#Idea Count per Office Location\n",
        "office_count_query <- '\n",
        "SELECT \"Office Location\", COUNT(*) AS TotalIdeas\n",
        "FROM ideas\n",
        "GROUP BY \"Office Location\"\n",
        "'\n",
        "office_count <- dbGetQuery(conn, office_count_query)\n",
        "print(office_count)\n"
      ],
      "metadata": {
        "colab": {
          "base_uri": "https://localhost:8080/"
        },
        "id": "oTyr6OdJPuQo",
        "outputId": "109d50b5-bdb9-417b-f8ca-3efd5c089b42"
      },
      "execution_count": null,
      "outputs": [
        {
          "output_type": "stream",
          "name": "stdout",
          "text": [
            "   Office Location TotalIdeas\n",
            "1        Australia        244\n",
            "2           Brazil        227\n",
            "3           Canada        252\n",
            "4            China        280\n",
            "5           France        266\n",
            "6          Germany        252\n",
            "7            India        222\n",
            "8            Japan        259\n",
            "9           Mexico        240\n",
            "10    South Africa        260\n",
            "11              UK        257\n",
            "12             USA        241\n"
          ]
        }
      ]
    },
    {
      "cell_type": "code",
      "source": [
        "#Approved Ideas by Department\n",
        "approved_query <- '\n",
        "SELECT \"Department\", COUNT(*) AS ApprovedIdeas\n",
        "FROM ideas\n",
        "WHERE \"Approval Status\" = \"Approved\"\n",
        "GROUP BY \"Department\"\n",
        "'\n",
        "approved_ideas <- dbGetQuery(conn, approved_query)\n",
        "print(approved_ideas)\n"
      ],
      "metadata": {
        "colab": {
          "base_uri": "https://localhost:8080/"
        },
        "id": "4KBPNn3cP0jZ",
        "outputId": "289916ad-cde9-4fee-cbb9-e1b57714f8a1"
      },
      "execution_count": null,
      "outputs": [
        {
          "output_type": "stream",
          "name": "stdout",
          "text": [
            "            Department ApprovedIdeas\n",
            "1 Environmental Policy           169\n",
            "2       Infrastructure           183\n",
            "3     Renewable Energy           182\n",
            "4             Research           169\n",
            "5           Technology           172\n",
            "6    Urban Development           162\n"
          ]
        }
      ]
    },
    {
      "cell_type": "code",
      "source": [
        "#Collaboration Trends\n",
        "collab_query <- '\n",
        "SELECT \"Collaboration Status\", COUNT(*) AS Total\n",
        "FROM ideas\n",
        "GROUP BY \"Collaboration Status\"\n",
        "'\n",
        "collab_status <- dbGetQuery(conn, collab_query)\n",
        "print(collab_status)\n"
      ],
      "metadata": {
        "colab": {
          "base_uri": "https://localhost:8080/"
        },
        "id": "_7hccp5DRKxn",
        "outputId": "22823640-f119-409a-f583-0d170b8e31bc"
      },
      "execution_count": null,
      "outputs": [
        {
          "output_type": "stream",
          "name": "stdout",
          "text": [
            "  Collaboration Status Total\n",
            "1  Cross-Regional Team  1455\n",
            "2   Single Contributor  1545\n"
          ]
        }
      ]
    },
    {
      "cell_type": "code",
      "source": [
        "#Security Concerns by Office Location\n",
        "security_query <- '\n",
        "SELECT \"Office Location\", SUM(\"Security Concern Flag\") AS SecurityConcerns\n",
        "FROM ideas\n",
        "GROUP BY \"Office Location\"\n",
        "'\n",
        "security_flags <- dbGetQuery(conn, security_query)\n",
        "print(security_flags)\n"
      ],
      "metadata": {
        "colab": {
          "base_uri": "https://localhost:8080/"
        },
        "id": "n3DpfyE-RRl5",
        "outputId": "fce543fa-457f-4adb-993b-d8dc220abd6f"
      },
      "execution_count": null,
      "outputs": [
        {
          "output_type": "stream",
          "name": "stdout",
          "text": [
            "   Office Location SecurityConcerns\n",
            "1        Australia                0\n",
            "2           Brazil                0\n",
            "3           Canada                0\n",
            "4            China                0\n",
            "5           France                0\n",
            "6          Germany                0\n",
            "7            India                0\n",
            "8            Japan                0\n",
            "9           Mexico                0\n",
            "10    South Africa                0\n",
            "11              UK                0\n",
            "12             USA                0\n"
          ]
        }
      ]
    },
    {
      "cell_type": "markdown",
      "source": [
        "# **Data Manipulation and Transformation in R**"
      ],
      "metadata": {
        "id": "zRqFFBn7fi-M"
      }
    },
    {
      "cell_type": "code",
      "source": [
        "# Load Required Libraries and Sample Data\n",
        "library(dplyr)\n",
        "library(readr)\n",
        "\n",
        "# Load dataset\n",
        "ideas <- read_csv(\"https://raw.githubusercontent.com/shamrithy2020/GreenFuture_IMS_Data/main/greenfuture_ideas_dataset.csv\")\n"
      ],
      "metadata": {
        "colab": {
          "base_uri": "https://localhost:8080/"
        },
        "id": "E-JBvaeUflW7",
        "outputId": "95e4715c-b16f-43ed-abad-098a06cbf578"
      },
      "execution_count": null,
      "outputs": [
        {
          "output_type": "stream",
          "name": "stderr",
          "text": [
            "\n",
            "Attaching package: ‘dplyr’\n",
            "\n",
            "\n",
            "The following objects are masked from ‘package:stats’:\n",
            "\n",
            "    filter, lag\n",
            "\n",
            "\n",
            "The following objects are masked from ‘package:base’:\n",
            "\n",
            "    intersect, setdiff, setequal, union\n",
            "\n",
            "\n",
            "\u001b[1mRows: \u001b[22m\u001b[34m3000\u001b[39m \u001b[1mColumns: \u001b[22m\u001b[34m11\u001b[39m\n",
            "\u001b[36m──\u001b[39m \u001b[1mColumn specification\u001b[22m \u001b[36m────────────────────────────────────────────────────────\u001b[39m\n",
            "\u001b[1mDelimiter:\u001b[22m \",\"\n",
            "\u001b[31mchr\u001b[39m (10): Employee ID, Office Location, Department, Idea Submission Date, Id...\n",
            "\u001b[32mdbl\u001b[39m  (1): Number of Votes\n",
            "\n",
            "\u001b[36mℹ\u001b[39m Use `spec()` to retrieve the full column specification for this data.\n",
            "\u001b[36mℹ\u001b[39m Specify the column types or set `show_col_types = FALSE` to quiet this message.\n"
          ]
        }
      ]
    },
    {
      "cell_type": "code",
      "source": [
        "#Select Specific Columns\n",
        "selected_data <- ideas %>%\n",
        "  select(`Employee ID`, `Department`, `Idea Category`, `Number of Votes`)\n",
        "head(selected_data)\n"
      ],
      "metadata": {
        "colab": {
          "base_uri": "https://localhost:8080/",
          "height": 286
        },
        "id": "S_6cUhgDfwoO",
        "outputId": "c3e1726b-c594-40d4-a18c-ac8a57bd1371"
      },
      "execution_count": null,
      "outputs": [
        {
          "output_type": "display_data",
          "data": {
            "text/html": [
              "<table class=\"dataframe\">\n",
              "<caption>A tibble: 6 × 4</caption>\n",
              "<thead>\n",
              "\t<tr><th scope=col>Employee ID</th><th scope=col>Department</th><th scope=col>Idea Category</th><th scope=col>Number of Votes</th></tr>\n",
              "\t<tr><th scope=col>&lt;chr&gt;</th><th scope=col>&lt;chr&gt;</th><th scope=col>&lt;chr&gt;</th><th scope=col>&lt;dbl&gt;</th></tr>\n",
              "</thead>\n",
              "<tbody>\n",
              "\t<tr><td>587b45d8</td><td>Renewable Energy    </td><td>Sustainable Transport</td><td>231</td></tr>\n",
              "\t<tr><td>0d3e8b8e</td><td>Renewable Energy    </td><td>Water Management     </td><td>477</td></tr>\n",
              "\t<tr><td>fa012fe7</td><td>Environmental Policy</td><td>Renewable Energy     </td><td> 48</td></tr>\n",
              "\t<tr><td>cb8ed680</td><td>Technology          </td><td>Circular Economy     </td><td>330</td></tr>\n",
              "\t<tr><td>333fff26</td><td>Technology          </td><td>Circular Economy     </td><td>428</td></tr>\n",
              "\t<tr><td>a34ebb0f</td><td>Technology          </td><td>Circular Economy     </td><td>431</td></tr>\n",
              "</tbody>\n",
              "</table>\n"
            ],
            "text/markdown": "\nA tibble: 6 × 4\n\n| Employee ID &lt;chr&gt; | Department &lt;chr&gt; | Idea Category &lt;chr&gt; | Number of Votes &lt;dbl&gt; |\n|---|---|---|---|\n| 587b45d8 | Renewable Energy     | Sustainable Transport | 231 |\n| 0d3e8b8e | Renewable Energy     | Water Management      | 477 |\n| fa012fe7 | Environmental Policy | Renewable Energy      |  48 |\n| cb8ed680 | Technology           | Circular Economy      | 330 |\n| 333fff26 | Technology           | Circular Economy      | 428 |\n| a34ebb0f | Technology           | Circular Economy      | 431 |\n\n",
            "text/latex": "A tibble: 6 × 4\n\\begin{tabular}{llll}\n Employee ID & Department & Idea Category & Number of Votes\\\\\n <chr> & <chr> & <chr> & <dbl>\\\\\n\\hline\n\t 587b45d8 & Renewable Energy     & Sustainable Transport & 231\\\\\n\t 0d3e8b8e & Renewable Energy     & Water Management      & 477\\\\\n\t fa012fe7 & Environmental Policy & Renewable Energy      &  48\\\\\n\t cb8ed680 & Technology           & Circular Economy      & 330\\\\\n\t 333fff26 & Technology           & Circular Economy      & 428\\\\\n\t a34ebb0f & Technology           & Circular Economy      & 431\\\\\n\\end{tabular}\n",
            "text/plain": [
              "  Employee ID Department           Idea Category         Number of Votes\n",
              "1 587b45d8    Renewable Energy     Sustainable Transport 231            \n",
              "2 0d3e8b8e    Renewable Energy     Water Management      477            \n",
              "3 fa012fe7    Environmental Policy Renewable Energy       48            \n",
              "4 cb8ed680    Technology           Circular Economy      330            \n",
              "5 333fff26    Technology           Circular Economy      428            \n",
              "6 a34ebb0f    Technology           Circular Economy      431            "
            ]
          },
          "metadata": {}
        }
      ]
    },
    {
      "cell_type": "code",
      "source": [
        "#Filter Rows Based on Conditions\n",
        "filtered_data <- ideas %>%\n",
        "  filter(`Department` == \"Technology\" & `Number of Votes` > 50)\n",
        "head(filtered_data)\n"
      ],
      "metadata": {
        "colab": {
          "base_uri": "https://localhost:8080/",
          "height": 338
        },
        "id": "Lipnen6YgTlR",
        "outputId": "68748b57-c62e-4c84-e594-5430f852d5ee"
      },
      "execution_count": null,
      "outputs": [
        {
          "output_type": "display_data",
          "data": {
            "text/html": [
              "<table class=\"dataframe\">\n",
              "<caption>A tibble: 6 × 11</caption>\n",
              "<thead>\n",
              "\t<tr><th scope=col>Employee ID</th><th scope=col>Office Location</th><th scope=col>Department</th><th scope=col>Idea Submission Date</th><th scope=col>Idea Title</th><th scope=col>Idea Category</th><th scope=col>Number of Votes</th><th scope=col>Collaboration Status</th><th scope=col>Approval Status</th><th scope=col>Implementation Status</th><th scope=col>Security Concern Flag</th></tr>\n",
              "\t<tr><th scope=col>&lt;chr&gt;</th><th scope=col>&lt;chr&gt;</th><th scope=col>&lt;chr&gt;</th><th scope=col>&lt;chr&gt;</th><th scope=col>&lt;chr&gt;</th><th scope=col>&lt;chr&gt;</th><th scope=col>&lt;dbl&gt;</th><th scope=col>&lt;chr&gt;</th><th scope=col>&lt;chr&gt;</th><th scope=col>&lt;chr&gt;</th><th scope=col>&lt;chr&gt;</th></tr>\n",
              "</thead>\n",
              "<tbody>\n",
              "\t<tr><td>cb8ed680</td><td>Japan    </td><td>Technology</td><td>24/12/2023</td><td>Idea 4 </td><td>Circular Economy     </td><td>330</td><td>Cross-Regional Team</td><td>Approved</td><td>Completed  </td><td>No</td></tr>\n",
              "\t<tr><td>333fff26</td><td>Australia</td><td>Technology</td><td>13/02/2025</td><td>Idea 5 </td><td>Circular Economy     </td><td>428</td><td>Single Contributor </td><td>Approved</td><td>Not Started</td><td>No</td></tr>\n",
              "\t<tr><td>a34ebb0f</td><td>India    </td><td>Technology</td><td>08/09/2024</td><td>Idea 6 </td><td>Circular Economy     </td><td>431</td><td>Single Contributor </td><td>Rejected</td><td>Not Started</td><td>No</td></tr>\n",
              "\t<tr><td>27febb2d</td><td>Brazil   </td><td>Technology</td><td>17/05/2024</td><td>Idea 15</td><td>Sustainable Transport</td><td>425</td><td>Single Contributor </td><td>Approved</td><td>In Progress</td><td>No</td></tr>\n",
              "\t<tr><td>dcbf1bd1</td><td>China    </td><td>Technology</td><td>16/11/2024</td><td>Idea 16</td><td>Smart Cities         </td><td>216</td><td>Cross-Regional Team</td><td>Rejected</td><td>Not Started</td><td>No</td></tr>\n",
              "\t<tr><td>25120b55</td><td>UK       </td><td>Technology</td><td>08/04/2024</td><td>Idea 33</td><td>Sustainable Transport</td><td>353</td><td>Cross-Regional Team</td><td>Approved</td><td>Completed  </td><td>No</td></tr>\n",
              "</tbody>\n",
              "</table>\n"
            ],
            "text/markdown": "\nA tibble: 6 × 11\n\n| Employee ID &lt;chr&gt; | Office Location &lt;chr&gt; | Department &lt;chr&gt; | Idea Submission Date &lt;chr&gt; | Idea Title &lt;chr&gt; | Idea Category &lt;chr&gt; | Number of Votes &lt;dbl&gt; | Collaboration Status &lt;chr&gt; | Approval Status &lt;chr&gt; | Implementation Status &lt;chr&gt; | Security Concern Flag &lt;chr&gt; |\n|---|---|---|---|---|---|---|---|---|---|---|\n| cb8ed680 | Japan     | Technology | 24/12/2023 | Idea 4  | Circular Economy      | 330 | Cross-Regional Team | Approved | Completed   | No |\n| 333fff26 | Australia | Technology | 13/02/2025 | Idea 5  | Circular Economy      | 428 | Single Contributor  | Approved | Not Started | No |\n| a34ebb0f | India     | Technology | 08/09/2024 | Idea 6  | Circular Economy      | 431 | Single Contributor  | Rejected | Not Started | No |\n| 27febb2d | Brazil    | Technology | 17/05/2024 | Idea 15 | Sustainable Transport | 425 | Single Contributor  | Approved | In Progress | No |\n| dcbf1bd1 | China     | Technology | 16/11/2024 | Idea 16 | Smart Cities          | 216 | Cross-Regional Team | Rejected | Not Started | No |\n| 25120b55 | UK        | Technology | 08/04/2024 | Idea 33 | Sustainable Transport | 353 | Cross-Regional Team | Approved | Completed   | No |\n\n",
            "text/latex": "A tibble: 6 × 11\n\\begin{tabular}{lllllllllll}\n Employee ID & Office Location & Department & Idea Submission Date & Idea Title & Idea Category & Number of Votes & Collaboration Status & Approval Status & Implementation Status & Security Concern Flag\\\\\n <chr> & <chr> & <chr> & <chr> & <chr> & <chr> & <dbl> & <chr> & <chr> & <chr> & <chr>\\\\\n\\hline\n\t cb8ed680 & Japan     & Technology & 24/12/2023 & Idea 4  & Circular Economy      & 330 & Cross-Regional Team & Approved & Completed   & No\\\\\n\t 333fff26 & Australia & Technology & 13/02/2025 & Idea 5  & Circular Economy      & 428 & Single Contributor  & Approved & Not Started & No\\\\\n\t a34ebb0f & India     & Technology & 08/09/2024 & Idea 6  & Circular Economy      & 431 & Single Contributor  & Rejected & Not Started & No\\\\\n\t 27febb2d & Brazil    & Technology & 17/05/2024 & Idea 15 & Sustainable Transport & 425 & Single Contributor  & Approved & In Progress & No\\\\\n\t dcbf1bd1 & China     & Technology & 16/11/2024 & Idea 16 & Smart Cities          & 216 & Cross-Regional Team & Rejected & Not Started & No\\\\\n\t 25120b55 & UK        & Technology & 08/04/2024 & Idea 33 & Sustainable Transport & 353 & Cross-Regional Team & Approved & Completed   & No\\\\\n\\end{tabular}\n",
            "text/plain": [
              "  Employee ID Office Location Department Idea Submission Date Idea Title\n",
              "1 cb8ed680    Japan           Technology 24/12/2023           Idea 4    \n",
              "2 333fff26    Australia       Technology 13/02/2025           Idea 5    \n",
              "3 a34ebb0f    India           Technology 08/09/2024           Idea 6    \n",
              "4 27febb2d    Brazil          Technology 17/05/2024           Idea 15   \n",
              "5 dcbf1bd1    China           Technology 16/11/2024           Idea 16   \n",
              "6 25120b55    UK              Technology 08/04/2024           Idea 33   \n",
              "  Idea Category         Number of Votes Collaboration Status Approval Status\n",
              "1 Circular Economy      330             Cross-Regional Team  Approved       \n",
              "2 Circular Economy      428             Single Contributor   Approved       \n",
              "3 Circular Economy      431             Single Contributor   Rejected       \n",
              "4 Sustainable Transport 425             Single Contributor   Approved       \n",
              "5 Smart Cities          216             Cross-Regional Team  Rejected       \n",
              "6 Sustainable Transport 353             Cross-Regional Team  Approved       \n",
              "  Implementation Status Security Concern Flag\n",
              "1 Completed             No                   \n",
              "2 Not Started           No                   \n",
              "3 Not Started           No                   \n",
              "4 In Progress           No                   \n",
              "5 Not Started           No                   \n",
              "6 Completed             No                   "
            ]
          },
          "metadata": {}
        }
      ]
    },
    {
      "cell_type": "code",
      "source": [
        "#Create New Columns / Mutate\n",
        "transformed_data <- ideas %>%\n",
        "  mutate(VoteCategory = ifelse(`Number of Votes` > 50, \"High\", \"Low\"))\n",
        "head(transformed_data)\n"
      ],
      "metadata": {
        "colab": {
          "base_uri": "https://localhost:8080/",
          "height": 373
        },
        "id": "8nxRWWAFgeC6",
        "outputId": "fef7d1fc-5711-4bee-8400-d4700d6df33f"
      },
      "execution_count": null,
      "outputs": [
        {
          "output_type": "display_data",
          "data": {
            "text/html": [
              "<table class=\"dataframe\">\n",
              "<caption>A tibble: 6 × 12</caption>\n",
              "<thead>\n",
              "\t<tr><th scope=col>Employee ID</th><th scope=col>Office Location</th><th scope=col>Department</th><th scope=col>Idea Submission Date</th><th scope=col>Idea Title</th><th scope=col>Idea Category</th><th scope=col>Number of Votes</th><th scope=col>Collaboration Status</th><th scope=col>Approval Status</th><th scope=col>Implementation Status</th><th scope=col>Security Concern Flag</th><th scope=col>VoteCategory</th></tr>\n",
              "\t<tr><th scope=col>&lt;chr&gt;</th><th scope=col>&lt;chr&gt;</th><th scope=col>&lt;chr&gt;</th><th scope=col>&lt;chr&gt;</th><th scope=col>&lt;chr&gt;</th><th scope=col>&lt;chr&gt;</th><th scope=col>&lt;dbl&gt;</th><th scope=col>&lt;chr&gt;</th><th scope=col>&lt;chr&gt;</th><th scope=col>&lt;chr&gt;</th><th scope=col>&lt;chr&gt;</th><th scope=col>&lt;chr&gt;</th></tr>\n",
              "</thead>\n",
              "<tbody>\n",
              "\t<tr><td>587b45d8</td><td>Germany  </td><td>Renewable Energy    </td><td>16/04/2024</td><td>Idea 1</td><td>Sustainable Transport</td><td>231</td><td>Single Contributor </td><td>Pending </td><td>Not Started</td><td>No </td><td>High</td></tr>\n",
              "\t<tr><td>0d3e8b8e</td><td>Canada   </td><td>Renewable Energy    </td><td>14/01/2024</td><td>Idea 2</td><td>Water Management     </td><td>477</td><td>Cross-Regional Team</td><td>Approved</td><td>In Progress</td><td>No </td><td>High</td></tr>\n",
              "\t<tr><td>fa012fe7</td><td>France   </td><td>Environmental Policy</td><td>10/01/2025</td><td>Idea 3</td><td>Renewable Energy     </td><td> 48</td><td>Cross-Regional Team</td><td>Approved</td><td>Not Started</td><td>Yes</td><td>Low </td></tr>\n",
              "\t<tr><td>cb8ed680</td><td>Japan    </td><td>Technology          </td><td>24/12/2023</td><td>Idea 4</td><td>Circular Economy     </td><td>330</td><td>Cross-Regional Team</td><td>Approved</td><td>Completed  </td><td>No </td><td>High</td></tr>\n",
              "\t<tr><td>333fff26</td><td>Australia</td><td>Technology          </td><td>13/02/2025</td><td>Idea 5</td><td>Circular Economy     </td><td>428</td><td>Single Contributor </td><td>Approved</td><td>Not Started</td><td>No </td><td>High</td></tr>\n",
              "\t<tr><td>a34ebb0f</td><td>India    </td><td>Technology          </td><td>08/09/2024</td><td>Idea 6</td><td>Circular Economy     </td><td>431</td><td>Single Contributor </td><td>Rejected</td><td>Not Started</td><td>No </td><td>High</td></tr>\n",
              "</tbody>\n",
              "</table>\n"
            ],
            "text/markdown": "\nA tibble: 6 × 12\n\n| Employee ID &lt;chr&gt; | Office Location &lt;chr&gt; | Department &lt;chr&gt; | Idea Submission Date &lt;chr&gt; | Idea Title &lt;chr&gt; | Idea Category &lt;chr&gt; | Number of Votes &lt;dbl&gt; | Collaboration Status &lt;chr&gt; | Approval Status &lt;chr&gt; | Implementation Status &lt;chr&gt; | Security Concern Flag &lt;chr&gt; | VoteCategory &lt;chr&gt; |\n|---|---|---|---|---|---|---|---|---|---|---|---|\n| 587b45d8 | Germany   | Renewable Energy     | 16/04/2024 | Idea 1 | Sustainable Transport | 231 | Single Contributor  | Pending  | Not Started | No  | High |\n| 0d3e8b8e | Canada    | Renewable Energy     | 14/01/2024 | Idea 2 | Water Management      | 477 | Cross-Regional Team | Approved | In Progress | No  | High |\n| fa012fe7 | France    | Environmental Policy | 10/01/2025 | Idea 3 | Renewable Energy      |  48 | Cross-Regional Team | Approved | Not Started | Yes | Low  |\n| cb8ed680 | Japan     | Technology           | 24/12/2023 | Idea 4 | Circular Economy      | 330 | Cross-Regional Team | Approved | Completed   | No  | High |\n| 333fff26 | Australia | Technology           | 13/02/2025 | Idea 5 | Circular Economy      | 428 | Single Contributor  | Approved | Not Started | No  | High |\n| a34ebb0f | India     | Technology           | 08/09/2024 | Idea 6 | Circular Economy      | 431 | Single Contributor  | Rejected | Not Started | No  | High |\n\n",
            "text/latex": "A tibble: 6 × 12\n\\begin{tabular}{llllllllllll}\n Employee ID & Office Location & Department & Idea Submission Date & Idea Title & Idea Category & Number of Votes & Collaboration Status & Approval Status & Implementation Status & Security Concern Flag & VoteCategory\\\\\n <chr> & <chr> & <chr> & <chr> & <chr> & <chr> & <dbl> & <chr> & <chr> & <chr> & <chr> & <chr>\\\\\n\\hline\n\t 587b45d8 & Germany   & Renewable Energy     & 16/04/2024 & Idea 1 & Sustainable Transport & 231 & Single Contributor  & Pending  & Not Started & No  & High\\\\\n\t 0d3e8b8e & Canada    & Renewable Energy     & 14/01/2024 & Idea 2 & Water Management      & 477 & Cross-Regional Team & Approved & In Progress & No  & High\\\\\n\t fa012fe7 & France    & Environmental Policy & 10/01/2025 & Idea 3 & Renewable Energy      &  48 & Cross-Regional Team & Approved & Not Started & Yes & Low \\\\\n\t cb8ed680 & Japan     & Technology           & 24/12/2023 & Idea 4 & Circular Economy      & 330 & Cross-Regional Team & Approved & Completed   & No  & High\\\\\n\t 333fff26 & Australia & Technology           & 13/02/2025 & Idea 5 & Circular Economy      & 428 & Single Contributor  & Approved & Not Started & No  & High\\\\\n\t a34ebb0f & India     & Technology           & 08/09/2024 & Idea 6 & Circular Economy      & 431 & Single Contributor  & Rejected & Not Started & No  & High\\\\\n\\end{tabular}\n",
            "text/plain": [
              "  Employee ID Office Location Department           Idea Submission Date\n",
              "1 587b45d8    Germany         Renewable Energy     16/04/2024          \n",
              "2 0d3e8b8e    Canada          Renewable Energy     14/01/2024          \n",
              "3 fa012fe7    France          Environmental Policy 10/01/2025          \n",
              "4 cb8ed680    Japan           Technology           24/12/2023          \n",
              "5 333fff26    Australia       Technology           13/02/2025          \n",
              "6 a34ebb0f    India           Technology           08/09/2024          \n",
              "  Idea Title Idea Category         Number of Votes Collaboration Status\n",
              "1 Idea 1     Sustainable Transport 231             Single Contributor  \n",
              "2 Idea 2     Water Management      477             Cross-Regional Team \n",
              "3 Idea 3     Renewable Energy       48             Cross-Regional Team \n",
              "4 Idea 4     Circular Economy      330             Cross-Regional Team \n",
              "5 Idea 5     Circular Economy      428             Single Contributor  \n",
              "6 Idea 6     Circular Economy      431             Single Contributor  \n",
              "  Approval Status Implementation Status Security Concern Flag VoteCategory\n",
              "1 Pending         Not Started           No                    High        \n",
              "2 Approved        In Progress           No                    High        \n",
              "3 Approved        Not Started           Yes                   Low         \n",
              "4 Approved        Completed             No                    High        \n",
              "5 Approved        Not Started           No                    High        \n",
              "6 Rejected        Not Started           No                    High        "
            ]
          },
          "metadata": {}
        }
      ]
    },
    {
      "cell_type": "code",
      "source": [
        "#Group By and Summarize\n",
        "summary_votes <- ideas %>%\n",
        "  group_by(`Department`) %>%\n",
        "  summarise(AverageVotes = mean(`Number of Votes`), TotalIdeas = n())\n",
        "print(summary_votes)\n"
      ],
      "metadata": {
        "colab": {
          "base_uri": "https://localhost:8080/"
        },
        "id": "8HYoPsaog9WT",
        "outputId": "058c9f00-9b32-4d15-aa2e-970f918e158f"
      },
      "execution_count": null,
      "outputs": [
        {
          "output_type": "stream",
          "name": "stdout",
          "text": [
            "\u001b[90m# A tibble: 6 × 3\u001b[39m\n",
            "  Department           AverageVotes TotalIdeas\n",
            "  \u001b[3m\u001b[90m<chr>\u001b[39m\u001b[23m                       \u001b[3m\u001b[90m<dbl>\u001b[39m\u001b[23m      \u001b[3m\u001b[90m<int>\u001b[39m\u001b[23m\n",
            "\u001b[90m1\u001b[39m Environmental Policy         253.        499\n",
            "\u001b[90m2\u001b[39m Infrastructure               244.        547\n",
            "\u001b[90m3\u001b[39m Renewable Energy             247.        513\n",
            "\u001b[90m4\u001b[39m Research                     249.        498\n",
            "\u001b[90m5\u001b[39m Technology                   248.        457\n",
            "\u001b[90m6\u001b[39m Urban Development            251.        486\n"
          ]
        }
      ]
    },
    {
      "cell_type": "code",
      "source": [
        "#Arrange / Sort Data\n",
        "sorted_ideas <- ideas %>%\n",
        "  arrange(desc(`Number of Votes`))\n",
        "head(sorted_ideas)\n"
      ],
      "metadata": {
        "colab": {
          "base_uri": "https://localhost:8080/",
          "height": 338
        },
        "id": "ZkpWsH2-hGFy",
        "outputId": "9e907814-9720-4ecd-cb62-9f616d391683"
      },
      "execution_count": null,
      "outputs": [
        {
          "output_type": "display_data",
          "data": {
            "text/html": [
              "<table class=\"dataframe\">\n",
              "<caption>A tibble: 6 × 11</caption>\n",
              "<thead>\n",
              "\t<tr><th scope=col>Employee ID</th><th scope=col>Office Location</th><th scope=col>Department</th><th scope=col>Idea Submission Date</th><th scope=col>Idea Title</th><th scope=col>Idea Category</th><th scope=col>Number of Votes</th><th scope=col>Collaboration Status</th><th scope=col>Approval Status</th><th scope=col>Implementation Status</th><th scope=col>Security Concern Flag</th></tr>\n",
              "\t<tr><th scope=col>&lt;chr&gt;</th><th scope=col>&lt;chr&gt;</th><th scope=col>&lt;chr&gt;</th><th scope=col>&lt;chr&gt;</th><th scope=col>&lt;chr&gt;</th><th scope=col>&lt;chr&gt;</th><th scope=col>&lt;dbl&gt;</th><th scope=col>&lt;chr&gt;</th><th scope=col>&lt;chr&gt;</th><th scope=col>&lt;chr&gt;</th><th scope=col>&lt;chr&gt;</th></tr>\n",
              "</thead>\n",
              "<tbody>\n",
              "\t<tr><td>f2105213</td><td>USA   </td><td>Infrastructure   </td><td>20/12/2024</td><td>Idea 422 </td><td>Water Management     </td><td>500</td><td>Single Contributor </td><td>Rejected</td><td>Not Started</td><td>No </td></tr>\n",
              "\t<tr><td>18b9a7b4</td><td>China </td><td>Infrastructure   </td><td>17/06/2023</td><td>Idea 915 </td><td>Sustainable Transport</td><td>500</td><td>Cross-Regional Team</td><td>Rejected</td><td>Not Started</td><td>No </td></tr>\n",
              "\t<tr><td>7d239d23</td><td>USA   </td><td>Urban Development</td><td>18/10/2024</td><td>Idea 1020</td><td>Circular Economy     </td><td>500</td><td>Cross-Regional Team</td><td>Approved</td><td>In Progress</td><td>Yes</td></tr>\n",
              "\t<tr><td>c9a9b03d</td><td>Brazil</td><td>Research         </td><td>09/08/2024</td><td>Idea 1146</td><td>Renewable Energy     </td><td>500</td><td>Single Contributor </td><td>Rejected</td><td>Not Started</td><td>No </td></tr>\n",
              "\t<tr><td>7fde2f60</td><td>France</td><td>Infrastructure   </td><td>06/01/2024</td><td>Idea 1323</td><td>Circular Economy     </td><td>500</td><td>Single Contributor </td><td>Rejected</td><td>Not Started</td><td>No </td></tr>\n",
              "\t<tr><td>be71d545</td><td>Brazil</td><td>Technology       </td><td>20/01/2025</td><td>Idea 2573</td><td>Renewable Energy     </td><td>500</td><td>Single Contributor </td><td>Rejected</td><td>Not Started</td><td>No </td></tr>\n",
              "</tbody>\n",
              "</table>\n"
            ],
            "text/markdown": "\nA tibble: 6 × 11\n\n| Employee ID &lt;chr&gt; | Office Location &lt;chr&gt; | Department &lt;chr&gt; | Idea Submission Date &lt;chr&gt; | Idea Title &lt;chr&gt; | Idea Category &lt;chr&gt; | Number of Votes &lt;dbl&gt; | Collaboration Status &lt;chr&gt; | Approval Status &lt;chr&gt; | Implementation Status &lt;chr&gt; | Security Concern Flag &lt;chr&gt; |\n|---|---|---|---|---|---|---|---|---|---|---|\n| f2105213 | USA    | Infrastructure    | 20/12/2024 | Idea 422  | Water Management      | 500 | Single Contributor  | Rejected | Not Started | No  |\n| 18b9a7b4 | China  | Infrastructure    | 17/06/2023 | Idea 915  | Sustainable Transport | 500 | Cross-Regional Team | Rejected | Not Started | No  |\n| 7d239d23 | USA    | Urban Development | 18/10/2024 | Idea 1020 | Circular Economy      | 500 | Cross-Regional Team | Approved | In Progress | Yes |\n| c9a9b03d | Brazil | Research          | 09/08/2024 | Idea 1146 | Renewable Energy      | 500 | Single Contributor  | Rejected | Not Started | No  |\n| 7fde2f60 | France | Infrastructure    | 06/01/2024 | Idea 1323 | Circular Economy      | 500 | Single Contributor  | Rejected | Not Started | No  |\n| be71d545 | Brazil | Technology        | 20/01/2025 | Idea 2573 | Renewable Energy      | 500 | Single Contributor  | Rejected | Not Started | No  |\n\n",
            "text/latex": "A tibble: 6 × 11\n\\begin{tabular}{lllllllllll}\n Employee ID & Office Location & Department & Idea Submission Date & Idea Title & Idea Category & Number of Votes & Collaboration Status & Approval Status & Implementation Status & Security Concern Flag\\\\\n <chr> & <chr> & <chr> & <chr> & <chr> & <chr> & <dbl> & <chr> & <chr> & <chr> & <chr>\\\\\n\\hline\n\t f2105213 & USA    & Infrastructure    & 20/12/2024 & Idea 422  & Water Management      & 500 & Single Contributor  & Rejected & Not Started & No \\\\\n\t 18b9a7b4 & China  & Infrastructure    & 17/06/2023 & Idea 915  & Sustainable Transport & 500 & Cross-Regional Team & Rejected & Not Started & No \\\\\n\t 7d239d23 & USA    & Urban Development & 18/10/2024 & Idea 1020 & Circular Economy      & 500 & Cross-Regional Team & Approved & In Progress & Yes\\\\\n\t c9a9b03d & Brazil & Research          & 09/08/2024 & Idea 1146 & Renewable Energy      & 500 & Single Contributor  & Rejected & Not Started & No \\\\\n\t 7fde2f60 & France & Infrastructure    & 06/01/2024 & Idea 1323 & Circular Economy      & 500 & Single Contributor  & Rejected & Not Started & No \\\\\n\t be71d545 & Brazil & Technology        & 20/01/2025 & Idea 2573 & Renewable Energy      & 500 & Single Contributor  & Rejected & Not Started & No \\\\\n\\end{tabular}\n",
            "text/plain": [
              "  Employee ID Office Location Department        Idea Submission Date Idea Title\n",
              "1 f2105213    USA             Infrastructure    20/12/2024           Idea 422  \n",
              "2 18b9a7b4    China           Infrastructure    17/06/2023           Idea 915  \n",
              "3 7d239d23    USA             Urban Development 18/10/2024           Idea 1020 \n",
              "4 c9a9b03d    Brazil          Research          09/08/2024           Idea 1146 \n",
              "5 7fde2f60    France          Infrastructure    06/01/2024           Idea 1323 \n",
              "6 be71d545    Brazil          Technology        20/01/2025           Idea 2573 \n",
              "  Idea Category         Number of Votes Collaboration Status Approval Status\n",
              "1 Water Management      500             Single Contributor   Rejected       \n",
              "2 Sustainable Transport 500             Cross-Regional Team  Rejected       \n",
              "3 Circular Economy      500             Cross-Regional Team  Approved       \n",
              "4 Renewable Energy      500             Single Contributor   Rejected       \n",
              "5 Circular Economy      500             Single Contributor   Rejected       \n",
              "6 Renewable Energy      500             Single Contributor   Rejected       \n",
              "  Implementation Status Security Concern Flag\n",
              "1 Not Started           No                   \n",
              "2 Not Started           No                   \n",
              "3 In Progress           Yes                  \n",
              "4 Not Started           No                   \n",
              "5 Not Started           No                   \n",
              "6 Not Started           No                   "
            ]
          },
          "metadata": {}
        }
      ]
    },
    {
      "cell_type": "markdown",
      "source": [
        "# **Data Visualisation in R**"
      ],
      "metadata": {
        "id": "9XNl5jzohXvI"
      }
    },
    {
      "cell_type": "code",
      "source": [
        "library(ggplot2)\n",
        "library(readr)\n",
        "\n",
        "# Load dataset\n",
        "ideas <- read_csv(\"https://raw.githubusercontent.com/shamrithy2020/GreenFuture_IMS_Data/main/greenfuture_ideas_dataset.csv\")\n"
      ],
      "metadata": {
        "colab": {
          "base_uri": "https://localhost:8080/"
        },
        "id": "TkxTmLSBhdKh",
        "outputId": "e99ae127-6d5e-4d2a-c136-12437293b17b"
      },
      "execution_count": null,
      "outputs": [
        {
          "output_type": "stream",
          "name": "stderr",
          "text": [
            "\u001b[1mRows: \u001b[22m\u001b[34m3000\u001b[39m \u001b[1mColumns: \u001b[22m\u001b[34m11\u001b[39m\n",
            "\u001b[36m──\u001b[39m \u001b[1mColumn specification\u001b[22m \u001b[36m────────────────────────────────────────────────────────\u001b[39m\n",
            "\u001b[1mDelimiter:\u001b[22m \",\"\n",
            "\u001b[31mchr\u001b[39m (10): Employee ID, Office Location, Department, Idea Submission Date, Id...\n",
            "\u001b[32mdbl\u001b[39m  (1): Number of Votes\n",
            "\n",
            "\u001b[36mℹ\u001b[39m Use `spec()` to retrieve the full column specification for this data.\n",
            "\u001b[36mℹ\u001b[39m Specify the column types or set `show_col_types = FALSE` to quiet this message.\n"
          ]
        }
      ]
    },
    {
      "cell_type": "code",
      "source": [
        "library(ggplot2)\n",
        "library(dplyr)\n",
        "\n",
        "# Summarize the data\n",
        "ideas_summary <- ideas %>%\n",
        "  group_by(Department) %>%\n",
        "  summarise(NumberOfIdeas = n())\n",
        "\n",
        "#Example 1 - Scatter plot: Department vs Number of Ideas\n",
        "ggplot(ideas_summary, aes(x = Department, y = NumberOfIdeas)) +\n",
        "  geom_point(size = 4, color = \"steelblue\") +\n",
        "  labs(title = \"Number of Ideas by Department (Scatter Plot)\",\n",
        "       x = \"Department\",\n",
        "       y = \"Number of Ideas\") +\n",
        "  theme_minimal()\n"
      ],
      "metadata": {
        "colab": {
          "base_uri": "https://localhost:8080/",
          "height": 437
        },
        "id": "8Gyr-g52I4n-",
        "outputId": "67cac06c-6dbd-4862-dfc8-f337ba172a63"
      },
      "execution_count": null,
      "outputs": [
        {
          "output_type": "display_data",
          "data": {
            "text/plain": [
              "plot without title"
            ],
            "image/png": "[encoded data removed]"
          },
          "metadata": {
            "image/png": {
              "width": 420,
              "height": 420
            }
          }
        }
      ]
    },
    {
      "cell_type": "code",
      "source": [
        "#Example 2: Boxplot — Distribution of Votes by Idea Category\n",
        "ggplot(ideas, aes(x = `Idea Category`, y = `Number of Votes`)) +\n",
        "  geom_boxplot(fill = \"lightgreen\") +\n",
        "  labs(title = \"Vote Distribution by Idea Category\",\n",
        "       x = \"Idea Category\",\n",
        "       y = \"Number of Votes\") +\n",
        "  theme(axis.text.x = element_text(angle = 45, hjust = 1))\n"
      ],
      "metadata": {
        "colab": {
          "base_uri": "https://localhost:8080/",
          "height": 437
        },
        "id": "LqO4Q1_Bis8d",
        "outputId": "94bea153-4fc0-487e-f340-d06d55802175"
      },
      "execution_count": null,
      "outputs": [
        {
          "output_type": "display_data",
          "data": {
            "text/plain": [
              "plot without title"
            ],
            "image/png": "[encoded data removed]"
          },
          "metadata": {
            "image/png": {
              "width": 420,
              "height": 420
            }
          }
        }
      ]
    },
    {
      "cell_type": "code",
      "source": [
        "#Example 3: Pie Chart — Approval Status Distribution\n",
        "approval_data <- as.data.frame(table(ideas$`Approval Status`))\n",
        "colnames(approval_data) <- c(\"Status\", \"Count\")\n",
        "\n",
        "ggplot(approval_data, aes(x = \"\", y = Count, fill = Status)) +\n",
        "  geom_bar(stat = \"identity\", width = 1) +\n",
        "  coord_polar(\"y\") +\n",
        "  labs(title = \"Approval Status Distribution\") +\n",
        "  theme_void()\n"
      ],
      "metadata": {
        "colab": {
          "base_uri": "https://localhost:8080/",
          "height": 437
        },
        "id": "2nXrVoJmi20U",
        "outputId": "6ef9d320-19ab-4d1a-8515-b1f598ccb766"
      },
      "execution_count": null,
      "outputs": [
        {
          "output_type": "display_data",
          "data": {
            "text/plain": [
              "plot without title"
            ],
            "image/png": "[encoded data removed]"
          },
          "metadata": {
            "image/png": {
              "width": 420,
              "height": 420
            }
          }
        }
      ]
    },
    {
      "cell_type": "code",
      "source": [
        "#Example 4: Bar Chart — Number of Ideas per Department\n",
        "\n",
        "ggplot(ideas, aes(x = Department)) +\n",
        "  geom_bar(fill = \"skyblue\") +\n",
        "  labs(title = \"Number of Ideas by Department\",\n",
        "       x = \"Department\",\n",
        "       y = \"Number of Ideas\") +\n",
        "  theme_minimal()\n"
      ],
      "metadata": {
        "colab": {
          "base_uri": "https://localhost:8080/",
          "height": 437
        },
        "id": "XAEribxCimEa",
        "outputId": "8e47b09a-8d3d-46df-c42d-2821e4cdc20a"
      },
      "execution_count": null,
      "outputs": [
        {
          "output_type": "display_data",
          "data": {
            "text/plain": [
              "plot without title"
            ],
            "image/png": "[encoded data removed]"
          },
          "metadata": {
            "image/png": {
              "width": 420,
              "height": 420
            }
          }
        }
      ]
    }
  ]
}